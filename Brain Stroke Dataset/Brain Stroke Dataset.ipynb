{
 "cells": [
  {
   "cell_type": "code",
   "execution_count": 1,
   "id": "b2a1b539-7ceb-4513-ad38-4af633b80287",
   "metadata": {},
   "outputs": [],
   "source": [
    "import pandas as pd\n",
    "import numpy as np\n",
    "import seaborn as sns\n",
    "import plotly.express as px\n",
    "import os\n",
    "import matplotlib.pyplot as plt\n",
    "\n",
    "import warnings\n",
    "warnings.filterwarnings(action = 'ignore') # to remove error while coading"
   ]
  },
  {
   "cell_type": "code",
   "execution_count": 4,
   "id": "8e6111cf-8f94-453e-a298-b1e3fd432feb",
   "metadata": {},
   "outputs": [],
   "source": [
    "df= pd.read_csv('data/brain_stroke.csv')"
   ]
  },
  {
   "cell_type": "code",
   "execution_count": 264,
   "id": "3e74588e-5a14-4ca5-b416-cfe3d92cd672",
   "metadata": {},
   "outputs": [
    {
     "data": {
      "text/html": [
       "<div>\n",
       "<style scoped>\n",
       "    .dataframe tbody tr th:only-of-type {\n",
       "        vertical-align: middle;\n",
       "    }\n",
       "\n",
       "    .dataframe tbody tr th {\n",
       "        vertical-align: top;\n",
       "    }\n",
       "\n",
       "    .dataframe thead th {\n",
       "        text-align: right;\n",
       "    }\n",
       "</style>\n",
       "<table border=\"1\" class=\"dataframe\">\n",
       "  <thead>\n",
       "    <tr style=\"text-align: right;\">\n",
       "      <th></th>\n",
       "      <th>gender</th>\n",
       "      <th>age</th>\n",
       "      <th>hypertension</th>\n",
       "      <th>heart_disease</th>\n",
       "      <th>ever_married</th>\n",
       "      <th>work_type</th>\n",
       "      <th>Residence_type</th>\n",
       "      <th>avg_glucose_level</th>\n",
       "      <th>bmi</th>\n",
       "      <th>smoking_status</th>\n",
       "      <th>stroke</th>\n",
       "      <th>age_range</th>\n",
       "    </tr>\n",
       "  </thead>\n",
       "  <tbody>\n",
       "    <tr>\n",
       "      <th>0</th>\n",
       "      <td>Male</td>\n",
       "      <td>67.0</td>\n",
       "      <td>0</td>\n",
       "      <td>1</td>\n",
       "      <td>Yes</td>\n",
       "      <td>Private</td>\n",
       "      <td>Urban</td>\n",
       "      <td>228.69</td>\n",
       "      <td>36.6</td>\n",
       "      <td>formerly smoked</td>\n",
       "      <td>1</td>\n",
       "      <td>60-70</td>\n",
       "    </tr>\n",
       "    <tr>\n",
       "      <th>1</th>\n",
       "      <td>Male</td>\n",
       "      <td>80.0</td>\n",
       "      <td>0</td>\n",
       "      <td>1</td>\n",
       "      <td>Yes</td>\n",
       "      <td>Private</td>\n",
       "      <td>Rural</td>\n",
       "      <td>105.92</td>\n",
       "      <td>32.5</td>\n",
       "      <td>never smoked</td>\n",
       "      <td>1</td>\n",
       "      <td>70-80</td>\n",
       "    </tr>\n",
       "    <tr>\n",
       "      <th>2</th>\n",
       "      <td>Female</td>\n",
       "      <td>49.0</td>\n",
       "      <td>0</td>\n",
       "      <td>0</td>\n",
       "      <td>Yes</td>\n",
       "      <td>Private</td>\n",
       "      <td>Urban</td>\n",
       "      <td>171.23</td>\n",
       "      <td>34.4</td>\n",
       "      <td>smokes</td>\n",
       "      <td>1</td>\n",
       "      <td>40-50</td>\n",
       "    </tr>\n",
       "    <tr>\n",
       "      <th>3</th>\n",
       "      <td>Female</td>\n",
       "      <td>79.0</td>\n",
       "      <td>1</td>\n",
       "      <td>0</td>\n",
       "      <td>Yes</td>\n",
       "      <td>Self-employed</td>\n",
       "      <td>Rural</td>\n",
       "      <td>174.12</td>\n",
       "      <td>24.0</td>\n",
       "      <td>never smoked</td>\n",
       "      <td>1</td>\n",
       "      <td>70-80</td>\n",
       "    </tr>\n",
       "    <tr>\n",
       "      <th>4</th>\n",
       "      <td>Male</td>\n",
       "      <td>81.0</td>\n",
       "      <td>0</td>\n",
       "      <td>0</td>\n",
       "      <td>Yes</td>\n",
       "      <td>Private</td>\n",
       "      <td>Urban</td>\n",
       "      <td>186.21</td>\n",
       "      <td>29.0</td>\n",
       "      <td>formerly smoked</td>\n",
       "      <td>1</td>\n",
       "      <td>80-90</td>\n",
       "    </tr>\n",
       "    <tr>\n",
       "      <th>...</th>\n",
       "      <td>...</td>\n",
       "      <td>...</td>\n",
       "      <td>...</td>\n",
       "      <td>...</td>\n",
       "      <td>...</td>\n",
       "      <td>...</td>\n",
       "      <td>...</td>\n",
       "      <td>...</td>\n",
       "      <td>...</td>\n",
       "      <td>...</td>\n",
       "      <td>...</td>\n",
       "      <td>...</td>\n",
       "    </tr>\n",
       "    <tr>\n",
       "      <th>4976</th>\n",
       "      <td>Male</td>\n",
       "      <td>41.0</td>\n",
       "      <td>0</td>\n",
       "      <td>0</td>\n",
       "      <td>No</td>\n",
       "      <td>Private</td>\n",
       "      <td>Rural</td>\n",
       "      <td>70.15</td>\n",
       "      <td>29.8</td>\n",
       "      <td>formerly smoked</td>\n",
       "      <td>0</td>\n",
       "      <td>40-50</td>\n",
       "    </tr>\n",
       "    <tr>\n",
       "      <th>4977</th>\n",
       "      <td>Male</td>\n",
       "      <td>40.0</td>\n",
       "      <td>0</td>\n",
       "      <td>0</td>\n",
       "      <td>Yes</td>\n",
       "      <td>Private</td>\n",
       "      <td>Urban</td>\n",
       "      <td>191.15</td>\n",
       "      <td>31.1</td>\n",
       "      <td>smokes</td>\n",
       "      <td>0</td>\n",
       "      <td>30-40</td>\n",
       "    </tr>\n",
       "    <tr>\n",
       "      <th>4978</th>\n",
       "      <td>Female</td>\n",
       "      <td>45.0</td>\n",
       "      <td>1</td>\n",
       "      <td>0</td>\n",
       "      <td>Yes</td>\n",
       "      <td>Govt_job</td>\n",
       "      <td>Rural</td>\n",
       "      <td>95.02</td>\n",
       "      <td>31.8</td>\n",
       "      <td>smokes</td>\n",
       "      <td>0</td>\n",
       "      <td>40-50</td>\n",
       "    </tr>\n",
       "    <tr>\n",
       "      <th>4979</th>\n",
       "      <td>Male</td>\n",
       "      <td>40.0</td>\n",
       "      <td>0</td>\n",
       "      <td>0</td>\n",
       "      <td>Yes</td>\n",
       "      <td>Private</td>\n",
       "      <td>Rural</td>\n",
       "      <td>83.94</td>\n",
       "      <td>30.0</td>\n",
       "      <td>smokes</td>\n",
       "      <td>0</td>\n",
       "      <td>30-40</td>\n",
       "    </tr>\n",
       "    <tr>\n",
       "      <th>4980</th>\n",
       "      <td>Female</td>\n",
       "      <td>80.0</td>\n",
       "      <td>1</td>\n",
       "      <td>0</td>\n",
       "      <td>Yes</td>\n",
       "      <td>Private</td>\n",
       "      <td>Urban</td>\n",
       "      <td>83.75</td>\n",
       "      <td>29.1</td>\n",
       "      <td>never smoked</td>\n",
       "      <td>0</td>\n",
       "      <td>70-80</td>\n",
       "    </tr>\n",
       "  </tbody>\n",
       "</table>\n",
       "<p>4981 rows × 12 columns</p>\n",
       "</div>"
      ],
      "text/plain": [
       "      gender   age  hypertension  heart_disease ever_married      work_type  \\\n",
       "0       Male  67.0             0              1          Yes        Private   \n",
       "1       Male  80.0             0              1          Yes        Private   \n",
       "2     Female  49.0             0              0          Yes        Private   \n",
       "3     Female  79.0             1              0          Yes  Self-employed   \n",
       "4       Male  81.0             0              0          Yes        Private   \n",
       "...      ...   ...           ...            ...          ...            ...   \n",
       "4976    Male  41.0             0              0           No        Private   \n",
       "4977    Male  40.0             0              0          Yes        Private   \n",
       "4978  Female  45.0             1              0          Yes       Govt_job   \n",
       "4979    Male  40.0             0              0          Yes        Private   \n",
       "4980  Female  80.0             1              0          Yes        Private   \n",
       "\n",
       "     Residence_type  avg_glucose_level   bmi   smoking_status  stroke  \\\n",
       "0             Urban             228.69  36.6  formerly smoked       1   \n",
       "1             Rural             105.92  32.5     never smoked       1   \n",
       "2             Urban             171.23  34.4           smokes       1   \n",
       "3             Rural             174.12  24.0     never smoked       1   \n",
       "4             Urban             186.21  29.0  formerly smoked       1   \n",
       "...             ...                ...   ...              ...     ...   \n",
       "4976          Rural              70.15  29.8  formerly smoked       0   \n",
       "4977          Urban             191.15  31.1           smokes       0   \n",
       "4978          Rural              95.02  31.8           smokes       0   \n",
       "4979          Rural              83.94  30.0           smokes       0   \n",
       "4980          Urban              83.75  29.1     never smoked       0   \n",
       "\n",
       "     age_range  \n",
       "0        60-70  \n",
       "1        70-80  \n",
       "2        40-50  \n",
       "3        70-80  \n",
       "4        80-90  \n",
       "...        ...  \n",
       "4976     40-50  \n",
       "4977     30-40  \n",
       "4978     40-50  \n",
       "4979     30-40  \n",
       "4980     70-80  \n",
       "\n",
       "[4981 rows x 12 columns]"
      ]
     },
     "execution_count": 264,
     "metadata": {},
     "output_type": "execute_result"
    }
   ],
   "source": [
    "df"
   ]
  },
  {
   "cell_type": "code",
   "execution_count": 23,
   "id": "dd96d925-73f9-4d77-a269-92ec3492308b",
   "metadata": {
    "collapsed": true,
    "jupyter": {
     "outputs_hidden": true
    },
    "tags": []
   },
   "outputs": [
    {
     "data": {
      "text/plain": [
       "0       60-70\n",
       "1       70-80\n",
       "2       40-50\n",
       "3       70-80\n",
       "4       80-90\n",
       "        ...  \n",
       "4976    40-50\n",
       "4977    30-40\n",
       "4978    40-50\n",
       "4979    30-40\n",
       "4980    70-80\n",
       "Name: age_range, Length: 4981, dtype: category\n",
       "Categories (9, object): ['0-10' < '10-20' < '20-30' < '30-40' ... '50-60' < '60-70' < '70-80' < '80-90']"
      ]
     },
     "execution_count": 23,
     "metadata": {},
     "output_type": "execute_result"
    }
   ],
   "source": [
    "bins = [0,10,20,30,40,50,60,70,80,90]\n",
    "label= ['0-10', '10-20', '20-30', '30-40', '40-50', '50-60', '60-70', '70-80', '80-90']\n",
    "\n",
    "df['age_range'] = pd.cut(df['age'], bins=bins, labels=label )\n",
    "\n",
    "df['age_range'] "
   ]
  },
  {
   "cell_type": "code",
   "execution_count": 25,
   "id": "9bc65f90-21b7-4bb9-b279-e6548dd0ff59",
   "metadata": {
    "tags": []
   },
   "outputs": [
    {
     "data": {
      "text/plain": [
       "Index(['gender', 'age', 'hypertension', 'heart_disease', 'ever_married',\n",
       "       'work_type', 'Residence_type', 'avg_glucose_level', 'bmi',\n",
       "       'smoking_status', 'stroke', 'age_range'],\n",
       "      dtype='object')"
      ]
     },
     "execution_count": 25,
     "metadata": {},
     "output_type": "execute_result"
    }
   ],
   "source": [
    "df.columns"
   ]
  },
  {
   "cell_type": "code",
   "execution_count": 31,
   "id": "aeb289a1-a428-4b99-aca0-eb4b35cf4b71",
   "metadata": {},
   "outputs": [
    {
     "data": {
      "text/html": [
       "<div>\n",
       "<style scoped>\n",
       "    .dataframe tbody tr th:only-of-type {\n",
       "        vertical-align: middle;\n",
       "    }\n",
       "\n",
       "    .dataframe tbody tr th {\n",
       "        vertical-align: top;\n",
       "    }\n",
       "\n",
       "    .dataframe thead th {\n",
       "        text-align: right;\n",
       "    }\n",
       "</style>\n",
       "<table border=\"1\" class=\"dataframe\">\n",
       "  <thead>\n",
       "    <tr style=\"text-align: right;\">\n",
       "      <th>stroke</th>\n",
       "      <th>0</th>\n",
       "      <th>1</th>\n",
       "    </tr>\n",
       "    <tr>\n",
       "      <th>age_range</th>\n",
       "      <th></th>\n",
       "      <th></th>\n",
       "    </tr>\n",
       "  </thead>\n",
       "  <tbody>\n",
       "    <tr>\n",
       "      <th>0-10</th>\n",
       "      <td>492</td>\n",
       "      <td>1</td>\n",
       "    </tr>\n",
       "    <tr>\n",
       "      <th>10-20</th>\n",
       "      <td>494</td>\n",
       "      <td>1</td>\n",
       "    </tr>\n",
       "    <tr>\n",
       "      <th>20-30</th>\n",
       "      <td>532</td>\n",
       "      <td>0</td>\n",
       "    </tr>\n",
       "    <tr>\n",
       "      <th>30-40</th>\n",
       "      <td>652</td>\n",
       "      <td>6</td>\n",
       "    </tr>\n",
       "    <tr>\n",
       "      <th>40-50</th>\n",
       "      <td>696</td>\n",
       "      <td>14</td>\n",
       "    </tr>\n",
       "    <tr>\n",
       "      <th>50-60</th>\n",
       "      <td>750</td>\n",
       "      <td>49</td>\n",
       "    </tr>\n",
       "    <tr>\n",
       "      <th>60-70</th>\n",
       "      <td>538</td>\n",
       "      <td>49</td>\n",
       "    </tr>\n",
       "    <tr>\n",
       "      <th>70-80</th>\n",
       "      <td>486</td>\n",
       "      <td>105</td>\n",
       "    </tr>\n",
       "    <tr>\n",
       "      <th>80-90</th>\n",
       "      <td>93</td>\n",
       "      <td>23</td>\n",
       "    </tr>\n",
       "  </tbody>\n",
       "</table>\n",
       "</div>"
      ],
      "text/plain": [
       "stroke       0    1\n",
       "age_range          \n",
       "0-10       492    1\n",
       "10-20      494    1\n",
       "20-30      532    0\n",
       "30-40      652    6\n",
       "40-50      696   14\n",
       "50-60      750   49\n",
       "60-70      538   49\n",
       "70-80      486  105\n",
       "80-90       93   23"
      ]
     },
     "execution_count": 31,
     "metadata": {},
     "output_type": "execute_result"
    }
   ],
   "source": [
    "stroke_data = pd.crosstab(df['age_range'], df['stroke'])\n",
    "stroke_data"
   ]
  },
  {
   "cell_type": "code",
   "execution_count": 33,
   "id": "35b9046b-e035-4ccc-b7fe-534f3f260993",
   "metadata": {},
   "outputs": [
    {
     "data": {
      "text/html": [
       "<div>\n",
       "<style scoped>\n",
       "    .dataframe tbody tr th:only-of-type {\n",
       "        vertical-align: middle;\n",
       "    }\n",
       "\n",
       "    .dataframe tbody tr th {\n",
       "        vertical-align: top;\n",
       "    }\n",
       "\n",
       "    .dataframe thead th {\n",
       "        text-align: right;\n",
       "    }\n",
       "</style>\n",
       "<table border=\"1\" class=\"dataframe\">\n",
       "  <thead>\n",
       "    <tr style=\"text-align: right;\">\n",
       "      <th>stroke</th>\n",
       "      <th>No Stroke</th>\n",
       "      <th>Stroke</th>\n",
       "    </tr>\n",
       "    <tr>\n",
       "      <th>age_range</th>\n",
       "      <th></th>\n",
       "      <th></th>\n",
       "    </tr>\n",
       "  </thead>\n",
       "  <tbody>\n",
       "    <tr>\n",
       "      <th>0-10</th>\n",
       "      <td>492</td>\n",
       "      <td>1</td>\n",
       "    </tr>\n",
       "    <tr>\n",
       "      <th>10-20</th>\n",
       "      <td>494</td>\n",
       "      <td>1</td>\n",
       "    </tr>\n",
       "    <tr>\n",
       "      <th>20-30</th>\n",
       "      <td>532</td>\n",
       "      <td>0</td>\n",
       "    </tr>\n",
       "    <tr>\n",
       "      <th>30-40</th>\n",
       "      <td>652</td>\n",
       "      <td>6</td>\n",
       "    </tr>\n",
       "    <tr>\n",
       "      <th>40-50</th>\n",
       "      <td>696</td>\n",
       "      <td>14</td>\n",
       "    </tr>\n",
       "    <tr>\n",
       "      <th>50-60</th>\n",
       "      <td>750</td>\n",
       "      <td>49</td>\n",
       "    </tr>\n",
       "    <tr>\n",
       "      <th>60-70</th>\n",
       "      <td>538</td>\n",
       "      <td>49</td>\n",
       "    </tr>\n",
       "    <tr>\n",
       "      <th>70-80</th>\n",
       "      <td>486</td>\n",
       "      <td>105</td>\n",
       "    </tr>\n",
       "    <tr>\n",
       "      <th>80-90</th>\n",
       "      <td>93</td>\n",
       "      <td>23</td>\n",
       "    </tr>\n",
       "  </tbody>\n",
       "</table>\n",
       "</div>"
      ],
      "text/plain": [
       "stroke     No Stroke  Stroke\n",
       "age_range                   \n",
       "0-10             492       1\n",
       "10-20            494       1\n",
       "20-30            532       0\n",
       "30-40            652       6\n",
       "40-50            696      14\n",
       "50-60            750      49\n",
       "60-70            538      49\n",
       "70-80            486     105\n",
       "80-90             93      23"
      ]
     },
     "execution_count": 33,
     "metadata": {},
     "output_type": "execute_result"
    }
   ],
   "source": [
    "stroke_data.rename(columns={0:'No Stroke', 1:'Stroke'}, inplace=True)\n",
    "\n",
    "stroke_data"
   ]
  },
  {
   "cell_type": "code",
   "execution_count": 57,
   "id": "455be675-bf94-46f7-b95d-d4c1b9f3441f",
   "metadata": {},
   "outputs": [
    {
     "data": {
      "image/png": "[encoded data removed]",
      "text/plain": [
       "<Figure size 576x396 with 1 Axes>"
      ]
     },
     "metadata": {},
     "output_type": "display_data"
    }
   ],
   "source": [
    "plt.style.use('seaborn')\n",
    "\n",
    "ax= plt.subplots(nrows= 1, ncols= 1)\n",
    "\n",
    "x_axis= np.arange(len(stroke_data))\n",
    "\n",
    "plt.bar(x_axis-0.2, stroke_data['No Stroke'], 0.4, label= 'No Stroke')\n",
    "plt.bar(x_axis+0.2, stroke_data['Stroke'], 0.4, label= 'Stroke')\n",
    "\n",
    "plt.xticks(x_axis, stroke_data.index)\n",
    "\n",
    "plt.xlabel('Age range')\n",
    "plt.ylabel('Stroke data')\n",
    "\n",
    "# [ax[0, 0].bar_label(i) for i in ax[0, 0].containers]\n",
    "plt.legend()\n",
    "plt.show()"
   ]
  },
  {
   "cell_type": "code",
   "execution_count": 58,
   "id": "38947ace-d218-4e6d-a270-c6219ed3f1db",
   "metadata": {},
   "outputs": [
    {
     "data": {
      "text/plain": [
       "Index(['gender', 'age', 'hypertension', 'heart_disease', 'ever_married',\n",
       "       'work_type', 'Residence_type', 'avg_glucose_level', 'bmi',\n",
       "       'smoking_status', 'stroke', 'age_range'],\n",
       "      dtype='object')"
      ]
     },
     "execution_count": 58,
     "metadata": {},
     "output_type": "execute_result"
    }
   ],
   "source": [
    "df.columns"
   ]
  },
  {
   "cell_type": "code",
   "execution_count": 144,
   "id": "59f8c8fd-5a9f-4c09-abd2-544b6a6fc651",
   "metadata": {},
   "outputs": [],
   "source": [
    "# ma_st_val = df.loc[df['gender']=='Male', 'stroke'].value_counts().values\n",
    "# ma_st_in = df.loc[df['gender']=='Male', 'stroke'].value_counts().index\n",
    "\n",
    "\n",
    "# fm_st_val = df.loc[df['gender']=='Female', 'stroke'].value_counts().values\n",
    "# fm_st_in = df.loc[df['gender']=='Female', 'stroke'].value_counts().index"
   ]
  },
  {
   "cell_type": "code",
   "execution_count": 156,
   "id": "cefe31a4-1b56-4fb0-97be-1ee79415c20d",
   "metadata": {},
   "outputs": [],
   "source": [
    "gender_data = pd.crosstab(df['gender'],df['stroke'])"
   ]
  },
  {
   "cell_type": "code",
   "execution_count": 157,
   "id": "689d4a09-151b-4e5c-a544-ea7f33c0e396",
   "metadata": {},
   "outputs": [
    {
     "data": {
      "text/html": [
       "<div>\n",
       "<style scoped>\n",
       "    .dataframe tbody tr th:only-of-type {\n",
       "        vertical-align: middle;\n",
       "    }\n",
       "\n",
       "    .dataframe tbody tr th {\n",
       "        vertical-align: top;\n",
       "    }\n",
       "\n",
       "    .dataframe thead th {\n",
       "        text-align: right;\n",
       "    }\n",
       "</style>\n",
       "<table border=\"1\" class=\"dataframe\">\n",
       "  <thead>\n",
       "    <tr style=\"text-align: right;\">\n",
       "      <th>stroke</th>\n",
       "      <th>0</th>\n",
       "      <th>1</th>\n",
       "    </tr>\n",
       "    <tr>\n",
       "      <th>gender</th>\n",
       "      <th></th>\n",
       "      <th></th>\n",
       "    </tr>\n",
       "  </thead>\n",
       "  <tbody>\n",
       "    <tr>\n",
       "      <th>Female</th>\n",
       "      <td>2767</td>\n",
       "      <td>140</td>\n",
       "    </tr>\n",
       "    <tr>\n",
       "      <th>Male</th>\n",
       "      <td>1966</td>\n",
       "      <td>108</td>\n",
       "    </tr>\n",
       "  </tbody>\n",
       "</table>\n",
       "</div>"
      ],
      "text/plain": [
       "stroke     0    1\n",
       "gender           \n",
       "Female  2767  140\n",
       "Male    1966  108"
      ]
     },
     "execution_count": 157,
     "metadata": {},
     "output_type": "execute_result"
    }
   ],
   "source": [
    "gender_data"
   ]
  },
  {
   "cell_type": "code",
   "execution_count": 175,
   "id": "d6bb4c36-48b5-4817-b91b-400faa8333f3",
   "metadata": {},
   "outputs": [],
   "source": [
    "gender_data_index = gender_data.index\n",
    "gender_data_value1 = gender_data[0]\n",
    "gender_data_value2 = gender_data[1]\n"
   ]
  },
  {
   "cell_type": "code",
   "execution_count": 174,
   "id": "e11d0118-1c82-47e6-9161-48d689d757f7",
   "metadata": {},
   "outputs": [
    {
     "data": {
      "text/plain": [
       "array([2767,  140], dtype=int64)"
      ]
     },
     "execution_count": 174,
     "metadata": {},
     "output_type": "execute_result"
    }
   ],
   "source": [
    "gender_data.values[0]"
   ]
  },
  {
   "cell_type": "code",
   "execution_count": 182,
   "id": "dd9eac68-5d52-4457-87e8-3beeda4ed928",
   "metadata": {},
   "outputs": [
    {
     "data": {
      "image/png": "[encoded data removed]",
      "text/plain": [
       "<Figure size 576x396 with 1 Axes>"
      ]
     },
     "metadata": {},
     "output_type": "display_data"
    }
   ],
   "source": [
    "plt.style.use('seaborn')\n",
    "\n",
    "x_axis= np.arange(len(gender_data))\n",
    "\n",
    "ax= plt.subplot2grid((2,2), (0,0), 2, 2)\n",
    "\n",
    "plt.bar(x_axis-0.2, gender_data_value1, 0.4)\n",
    "plt.bar(x_axis+0.2, gender_data_value2, 0.4)\n",
    "\n",
    "plt.xticks(x_axis, gender_data_index)\n",
    "\n",
    "[plt.bar_label(i) for i in ax.containers]\n",
    "\n",
    "plt.show()"
   ]
  },
  {
   "cell_type": "code",
   "execution_count": 183,
   "id": "e922327c-1cd0-4bf3-98c9-778d33a76080",
   "metadata": {},
   "outputs": [
    {
     "data": {
      "text/plain": [
       "Index(['gender', 'age', 'hypertension', 'heart_disease', 'ever_married',\n",
       "       'work_type', 'Residence_type', 'avg_glucose_level', 'bmi',\n",
       "       'smoking_status', 'stroke', 'age_range'],\n",
       "      dtype='object')"
      ]
     },
     "execution_count": 183,
     "metadata": {},
     "output_type": "execute_result"
    }
   ],
   "source": [
    "df.columns"
   ]
  },
  {
   "cell_type": "code",
   "execution_count": 197,
   "id": "fcce34f7-bfac-4ecd-9f23-d124414dae42",
   "metadata": {},
   "outputs": [
    {
     "data": {
      "text/plain": [
       "Index(['Private', 'Self-employed', 'children', 'Govt_job'], dtype='object')"
      ]
     },
     "execution_count": 197,
     "metadata": {},
     "output_type": "execute_result"
    }
   ],
   "source": [
    "x = df['work_type'].value_counts()\n",
    "xl = df['work_type'].value_counts().values\n",
    "\n",
    "x.index"
   ]
  },
  {
   "cell_type": "code",
   "execution_count": 213,
   "id": "ab07be4b-61f6-4b16-b178-da481ada57c1",
   "metadata": {},
   "outputs": [
    {
     "data": {
      "image/png": "[encoded data removed]",
      "text/plain": [
       "<Figure size 576x396 with 1 Axes>"
      ]
     },
     "metadata": {},
     "output_type": "display_data"
    }
   ],
   "source": [
    "plt.style.use('seaborn')\n",
    "\n",
    "# ax= plt.subplot(nrows =1, ncols=1)\n",
    "\n",
    "plt.pie(x, labels=(x.index), autopct=\"%1.1f%%\", explode = [0,0,0.1,0])\n",
    "\n",
    "plt.show()"
   ]
  },
  {
   "cell_type": "code",
   "execution_count": 214,
   "id": "a6f57433-9d6e-445a-942e-73c4ee951dc3",
   "metadata": {},
   "outputs": [
    {
     "data": {
      "text/plain": [
       "Index(['gender', 'age', 'hypertension', 'heart_disease', 'ever_married',\n",
       "       'work_type', 'Residence_type', 'avg_glucose_level', 'bmi',\n",
       "       'smoking_status', 'stroke', 'age_range'],\n",
       "      dtype='object')"
      ]
     },
     "execution_count": 214,
     "metadata": {},
     "output_type": "execute_result"
    }
   ],
   "source": [
    "df.columns"
   ]
  },
  {
   "cell_type": "code",
   "execution_count": 237,
   "id": "30f7b1bf-69f5-44ac-8b04-67d035808e58",
   "metadata": {},
   "outputs": [],
   "source": [
    "df_cat= df[['gender', 'hypertension', 'heart_disease', 'ever_married','work_type', 'Residence_type', \n",
    "                 'smoking_status', 'stroke']]"
   ]
  },
  {
   "cell_type": "code",
   "execution_count": 245,
   "id": "4b37c2be-8902-4cb8-a5b9-31a130ffb7a8",
   "metadata": {
    "collapsed": true,
    "jupyter": {
     "outputs_hidden": true
    },
    "tags": []
   },
   "outputs": [
    {
     "name": "stdout",
     "output_type": "stream",
     "text": [
      "['Male' 'Female']\n",
      "[0 1]\n",
      "[1 0]\n",
      "['Yes' 'No']\n",
      "['Private' 'Self-employed' 'Govt_job' 'children']\n",
      "['Urban' 'Rural']\n",
      "['formerly smoked' 'never smoked' 'smokes' 'Unknown']\n",
      "[1 0]\n"
     ]
    }
   ],
   "source": [
    "for i in df_cat:\n",
    "    print(df_cat[i].unique())"
   ]
  },
  {
   "cell_type": "code",
   "execution_count": 244,
   "id": "b8b4ac8e-1113-4634-b606-682cbabb01be",
   "metadata": {
    "collapsed": true,
    "jupyter": {
     "outputs_hidden": true
    },
    "tags": []
   },
   "outputs": [
    {
     "name": "stdout",
     "output_type": "stream",
     "text": [
      "Female    2907\n",
      "Male      2074\n",
      "Name: gender, dtype: int64\n",
      "0    4502\n",
      "1     479\n",
      "Name: hypertension, dtype: int64\n",
      "0    4706\n",
      "1     275\n",
      "Name: heart_disease, dtype: int64\n",
      "Yes    3280\n",
      "No     1701\n",
      "Name: ever_married, dtype: int64\n",
      "Private          2860\n",
      "Self-employed     804\n",
      "children          673\n",
      "Govt_job          644\n",
      "Name: work_type, dtype: int64\n",
      "Urban    2532\n",
      "Rural    2449\n",
      "Name: Residence_type, dtype: int64\n",
      "never smoked       1838\n",
      "Unknown            1500\n",
      "formerly smoked     867\n",
      "smokes              776\n",
      "Name: smoking_status, dtype: int64\n",
      "0    4733\n",
      "1     248\n",
      "Name: stroke, dtype: int64\n"
     ]
    }
   ],
   "source": [
    "for i in df_cat:\n",
    "    print(df_cat[i].value_counts())"
   ]
  },
  {
   "cell_type": "code",
   "execution_count": 256,
   "id": "adb0ad8f-4468-427a-bbff-afff309809f6",
   "metadata": {
    "tags": []
   },
   "outputs": [
    {
     "data": {
      "image/png": "[encoded data removed]",
      "text/plain": [
       "<Figure size 576x396 with 1 Axes>"
      ]
     },
     "metadata": {},
     "output_type": "display_data"
    },
    {
     "data": {
      "image/png": "[encoded data removed]",
      "text/plain": [
       "<Figure size 576x396 with 1 Axes>"
      ]
     },
     "metadata": {},
     "output_type": "display_data"
    },
    {
     "data": {
      "image/png": "[encoded data removed]",
      "text/plain": [
       "<Figure size 576x396 with 1 Axes>"
      ]
     },
     "metadata": {},
     "output_type": "display_data"
    },
    {
     "data": {
      "image/png": "[encoded data removed]",
      "text/plain": [
       "<Figure size 576x396 with 1 Axes>"
      ]
     },
     "metadata": {},
     "output_type": "display_data"
    },
    {
     "data": {
      "image/png": "[encoded data removed]",
      "text/plain": [
       "<Figure size 576x396 with 1 Axes>"
      ]
     },
     "metadata": {},
     "output_type": "display_data"
    },
    {
     "data": {
      "image/png": "[encoded data removed]",
      "text/plain": [
       "<Figure size 576x396 with 1 Axes>"
      ]
     },
     "metadata": {},
     "output_type": "display_data"
    },
    {
     "data": {
      "image/png": "[encoded data removed]",
      "text/plain": [
       "<Figure size 576x396 with 1 Axes>"
      ]
     },
     "metadata": {},
     "output_type": "display_data"
    },
    {
     "data": {
      "image/png": "[encoded data removed]",
      "text/plain": [
       "<Figure size 576x396 with 1 Axes>"
      ]
     },
     "metadata": {},
     "output_type": "display_data"
    }
   ],
   "source": [
    "for i in df_cat.columns:\n",
    "    sns.countplot(df_cat[i], data= df_cat)\n",
    "    plt.show()"
   ]
  },
  {
   "cell_type": "code",
   "execution_count": 263,
   "id": "8c4e7f09-7495-48d6-9313-b966375509cb",
   "metadata": {
    "collapsed": true,
    "jupyter": {
     "outputs_hidden": true
    },
    "tags": []
   },
   "outputs": [
    {
     "data": {
      "image/png": "[encoded data removed]",
      "text/plain": [
       "<Figure size 576x396 with 1 Axes>"
      ]
     },
     "metadata": {},
     "output_type": "display_data"
    },
    {
     "data": {
      "image/png": "[encoded data removed]",
      "text/plain": [
       "<Figure size 576x396 with 1 Axes>"
      ]
     },
     "metadata": {},
     "output_type": "display_data"
    },
    {
     "data": {
      "image/png": "[encoded data removed]",
      "text/plain": [
       "<Figure size 576x396 with 1 Axes>"
      ]
     },
     "metadata": {},
     "output_type": "display_data"
    },
    {
     "data": {
      "image/png": "[encoded data removed]",
      "text/plain": [
       "<Figure size 576x396 with 1 Axes>"
      ]
     },
     "metadata": {},
     "output_type": "display_data"
    },
    {
     "data": {
      "image/png": "[encoded data removed]",
      "text/plain": [
       "<Figure size 576x396 with 1 Axes>"
      ]
     },
     "metadata": {},
     "output_type": "display_data"
    },
    {
     "data": {
      "image/png": "[encoded data removed]",
      "text/plain": [
       "<Figure size 576x396 with 1 Axes>"
      ]
     },
     "metadata": {},
     "output_type": "display_data"
    },
    {
     "data": {
      "image/png": "[encoded data removed]",
      "text/plain": [
       "<Figure size 576x396 with 1 Axes>"
      ]
     },
     "metadata": {},
     "output_type": "display_data"
    },
    {
     "data": {
      "image/png": "[encoded data removed]",
      "text/plain": [
       "<Figure size 576x396 with 1 Axes>"
      ]
     },
     "metadata": {},
     "output_type": "display_data"
    }
   ],
   "source": [
    "for i in df_cat.columns:\n",
    "    sns.countplot(df_cat[i], data= df_cat)\n",
    "    \n",
    "    plt.show()"
   ]
  },
  {
   "cell_type": "code",
   "execution_count": null,
   "id": "b250a091-c206-48d8-a99d-2953ded6f40a",
   "metadata": {},
   "outputs": [],
   "source": []
  },
  {
   "cell_type": "code",
   "execution_count": 3,
   "id": "77c5d710-b54f-4ca6-a6b7-2cc4ca6cc056",
   "metadata": {},
   "outputs": [
    {
     "name": "stdout",
     "output_type": "stream",
     "text": [
      "python"
     ]
    }
   ],
   "source": [
    "s= 'python'\n",
    "\n",
    "i=0\n",
    "\n",
    "while i<len(s):\n",
    "    print(s[i], end='')\n",
    "    i+=1"
   ]
  },
  {
   "cell_type": "code",
   "execution_count": 7,
   "id": "cc90efd7-c8f5-4be0-8c8e-4c592433d07e",
   "metadata": {},
   "outputs": [],
   "source": [
    "i= len(s)-1"
   ]
  },
  {
   "cell_type": "code",
   "execution_count": 8,
   "id": "e22d4345-2619-41e9-b596-80e4d7e82388",
   "metadata": {},
   "outputs": [
    {
     "name": "stdout",
     "output_type": "stream",
     "text": [
      "nohtyp"
     ]
    }
   ],
   "source": [
    "while i>=0:\n",
    "    print(s[i], end='')\n",
    "    i=i-1"
   ]
  },
  {
   "cell_type": "code",
   "execution_count": null,
   "id": "a1d1902e-cef0-45fe-9614-c60933eeb3ee",
   "metadata": {},
   "outputs": [],
   "source": []
  },
  {
   "cell_type": "code",
   "execution_count": null,
   "id": "f37b0574-2876-4aa2-aa1d-41d5c7cfefe8",
   "metadata": {},
   "outputs": [],
   "source": []
  },
  {
   "cell_type": "code",
   "execution_count": null,
   "id": "e8f02013-1a63-48f0-8f7c-d70e8eb58c7c",
   "metadata": {},
   "outputs": [],
   "source": []
  },
  {
   "cell_type": "code",
   "execution_count": null,
   "id": "0f0e60ad-d023-4caa-b273-a075fb135a6d",
   "metadata": {},
   "outputs": [],
   "source": []
  },
  {
   "cell_type": "code",
   "execution_count": null,
   "id": "89f891b3-7da1-4ce3-a83b-ee7c081baff1",
   "metadata": {},
   "outputs": [],
   "source": []
  },
  {
   "cell_type": "code",
   "execution_count": null,
   "id": "6e33e379-c23f-4b52-830a-ff141f10b271",
   "metadata": {},
   "outputs": [],
   "source": []
  },
  {
   "cell_type": "code",
   "execution_count": null,
   "id": "51d66d35-0e95-4c85-b598-7e0e8c8e2653",
   "metadata": {},
   "outputs": [],
   "source": []
  },
  {
   "cell_type": "markdown",
   "id": "cab1de96-5116-4409-be6d-a692860216a1",
   "metadata": {},
   "source": [
    "## Artical on why numpy is  good "
   ]
  },
  {
   "cell_type": "code",
   "execution_count": null,
   "id": "cd7b1be9-20c7-434c-b8e1-32a70a209daf",
   "metadata": {},
   "outputs": [],
   "source": []
  },
  {
   "cell_type": "code",
   "execution_count": null,
   "id": "9bac362c-30e3-4f66-8534-0c33480cd323",
   "metadata": {},
   "outputs": [],
   "source": []
  },
  {
   "cell_type": "code",
   "execution_count": null,
   "id": "be264017-a6ec-4bfa-b50d-fd862613d436",
   "metadata": {},
   "outputs": [],
   "source": []
  },
  {
   "cell_type": "code",
   "execution_count": null,
   "id": "eceb1ca7-66a1-4c9b-8c4f-8d814ecf8894",
   "metadata": {},
   "outputs": [],
   "source": []
  },
  {
   "cell_type": "code",
   "execution_count": null,
   "id": "11472759-c56f-4a36-b0d1-b8a992ed3e7a",
   "metadata": {},
   "outputs": [],
   "source": []
  },
  {
   "cell_type": "code",
   "execution_count": null,
   "id": "78102d3a-7a7f-45aa-a206-9a2884577a4a",
   "metadata": {},
   "outputs": [],
   "source": []
  },
  {
   "cell_type": "code",
   "execution_count": null,
   "id": "130afd3d-a1f8-428c-8233-3f79c695b063",
   "metadata": {},
   "outputs": [],
   "source": []
  },
  {
   "cell_type": "code",
   "execution_count": null,
   "id": "d7c79e18-a515-4985-8dfd-1c937e6a936d",
   "metadata": {},
   "outputs": [],
   "source": []
  },
  {
   "cell_type": "code",
   "execution_count": null,
   "id": "6d51cf50-86fe-4424-8c8d-7f98cc9536ff",
   "metadata": {},
   "outputs": [],
   "source": []
  },
  {
   "cell_type": "code",
   "execution_count": null,
   "id": "36d06666-d84e-48a3-9308-d37854e85109",
   "metadata": {},
   "outputs": [],
   "source": []
  },
  {
   "cell_type": "code",
   "execution_count": null,
   "id": "b031eb74-0e75-475a-8b20-b65a1a406110",
   "metadata": {},
   "outputs": [],
   "source": []
  },
  {
   "cell_type": "code",
   "execution_count": null,
   "id": "d5595e6f-f79a-4674-98fb-bec89bffd55e",
   "metadata": {},
   "outputs": [],
   "source": []
  },
  {
   "cell_type": "code",
   "execution_count": null,
   "id": "ba1b3832-4ca7-4259-9305-1d8b27c4a127",
   "metadata": {},
   "outputs": [],
   "source": []
  },
  {
   "cell_type": "code",
   "execution_count": null,
   "id": "ed1c56c7-1ae2-4591-a689-7afdbac22d40",
   "metadata": {},
   "outputs": [],
   "source": []
  },
  {
   "cell_type": "code",
   "execution_count": null,
   "id": "6ce1d2e9-d877-477a-a669-798df3b2b881",
   "metadata": {},
   "outputs": [],
   "source": []
  },
  {
   "cell_type": "code",
   "execution_count": null,
   "id": "4ede03b8-43a2-414f-8d36-ec9af70b9931",
   "metadata": {},
   "outputs": [],
   "source": []
  },
  {
   "cell_type": "code",
   "execution_count": null,
   "id": "6b0648e3-4962-41fa-af0c-fb95a3fb3740",
   "metadata": {},
   "outputs": [],
   "source": []
  },
  {
   "cell_type": "code",
   "execution_count": null,
   "id": "eee5df6c-4248-4a60-b55c-1c6b24adad7a",
   "metadata": {},
   "outputs": [],
   "source": []
  },
  {
   "cell_type": "markdown",
   "id": "7f91cfd7-5bab-4e29-bf66-88aa15334f48",
   "metadata": {},
   "source": [
    "## create data frame for goussinan number"
   ]
  },
  {
   "cell_type": "code",
   "execution_count": 102,
   "id": "d8aa3862-1680-40ad-a6a6-7f5ccd4ee7af",
   "metadata": {},
   "outputs": [],
   "source": [
    "a = pd.DataFrame({})"
   ]
  },
  {
   "cell_type": "code",
   "execution_count": 103,
   "id": "4a1cece6-cf41-4729-bc5b-52e67efe4a23",
   "metadata": {
    "collapsed": true,
    "jupyter": {
     "outputs_hidden": true
    },
    "tags": []
   },
   "outputs": [
    {
     "data": {
      "text/html": [
       "<div>\n",
       "<style scoped>\n",
       "    .dataframe tbody tr th:only-of-type {\n",
       "        vertical-align: middle;\n",
       "    }\n",
       "\n",
       "    .dataframe tbody tr th {\n",
       "        vertical-align: top;\n",
       "    }\n",
       "\n",
       "    .dataframe thead th {\n",
       "        text-align: right;\n",
       "    }\n",
       "</style>\n",
       "<table border=\"1\" class=\"dataframe\">\n",
       "  <thead>\n",
       "    <tr style=\"text-align: right;\">\n",
       "      <th></th>\n",
       "      <th>0</th>\n",
       "      <th>1</th>\n",
       "      <th>2</th>\n",
       "      <th>3</th>\n",
       "      <th>4</th>\n",
       "      <th>5</th>\n",
       "      <th>6</th>\n",
       "      <th>7</th>\n",
       "      <th>8</th>\n",
       "      <th>9</th>\n",
       "    </tr>\n",
       "  </thead>\n",
       "  <tbody>\n",
       "    <tr>\n",
       "      <th>0</th>\n",
       "      <td>0.616035</td>\n",
       "      <td>-0.731864</td>\n",
       "      <td>0.769739</td>\n",
       "      <td>-0.402502</td>\n",
       "      <td>0.596086</td>\n",
       "      <td>-0.474069</td>\n",
       "      <td>-0.164185</td>\n",
       "      <td>1.837294</td>\n",
       "      <td>-0.372981</td>\n",
       "      <td>-0.199431</td>\n",
       "    </tr>\n",
       "    <tr>\n",
       "      <th>1</th>\n",
       "      <td>0.717572</td>\n",
       "      <td>1.309112</td>\n",
       "      <td>-0.559374</td>\n",
       "      <td>-0.322193</td>\n",
       "      <td>-0.271888</td>\n",
       "      <td>0.808571</td>\n",
       "      <td>-0.072750</td>\n",
       "      <td>-0.355815</td>\n",
       "      <td>0.037101</td>\n",
       "      <td>-0.346987</td>\n",
       "    </tr>\n",
       "    <tr>\n",
       "      <th>2</th>\n",
       "      <td>-1.903268</td>\n",
       "      <td>0.774425</td>\n",
       "      <td>-0.372074</td>\n",
       "      <td>-2.563002</td>\n",
       "      <td>-0.621310</td>\n",
       "      <td>0.074658</td>\n",
       "      <td>-0.984517</td>\n",
       "      <td>0.923470</td>\n",
       "      <td>-1.482405</td>\n",
       "      <td>0.421341</td>\n",
       "    </tr>\n",
       "    <tr>\n",
       "      <th>3</th>\n",
       "      <td>-1.409085</td>\n",
       "      <td>-0.334569</td>\n",
       "      <td>0.261213</td>\n",
       "      <td>-0.177641</td>\n",
       "      <td>-0.318207</td>\n",
       "      <td>1.358677</td>\n",
       "      <td>2.493077</td>\n",
       "      <td>0.167201</td>\n",
       "      <td>0.430103</td>\n",
       "      <td>-0.785548</td>\n",
       "    </tr>\n",
       "    <tr>\n",
       "      <th>4</th>\n",
       "      <td>1.339398</td>\n",
       "      <td>1.180523</td>\n",
       "      <td>0.182003</td>\n",
       "      <td>-0.730126</td>\n",
       "      <td>0.629070</td>\n",
       "      <td>0.485557</td>\n",
       "      <td>-1.713968</td>\n",
       "      <td>-0.276418</td>\n",
       "      <td>1.596072</td>\n",
       "      <td>-0.348260</td>\n",
       "    </tr>\n",
       "    <tr>\n",
       "      <th>...</th>\n",
       "      <td>...</td>\n",
       "      <td>...</td>\n",
       "      <td>...</td>\n",
       "      <td>...</td>\n",
       "      <td>...</td>\n",
       "      <td>...</td>\n",
       "      <td>...</td>\n",
       "      <td>...</td>\n",
       "      <td>...</td>\n",
       "      <td>...</td>\n",
       "    </tr>\n",
       "    <tr>\n",
       "      <th>95</th>\n",
       "      <td>0.807072</td>\n",
       "      <td>0.375575</td>\n",
       "      <td>1.112717</td>\n",
       "      <td>-0.931689</td>\n",
       "      <td>-0.487875</td>\n",
       "      <td>-1.379148</td>\n",
       "      <td>0.052790</td>\n",
       "      <td>-0.174471</td>\n",
       "      <td>-0.202490</td>\n",
       "      <td>-0.235442</td>\n",
       "    </tr>\n",
       "    <tr>\n",
       "      <th>96</th>\n",
       "      <td>1.270478</td>\n",
       "      <td>0.824676</td>\n",
       "      <td>-0.481769</td>\n",
       "      <td>-0.643513</td>\n",
       "      <td>0.350582</td>\n",
       "      <td>0.363449</td>\n",
       "      <td>-0.648412</td>\n",
       "      <td>-1.279645</td>\n",
       "      <td>-2.444887</td>\n",
       "      <td>0.431379</td>\n",
       "    </tr>\n",
       "    <tr>\n",
       "      <th>97</th>\n",
       "      <td>-0.332581</td>\n",
       "      <td>-0.256056</td>\n",
       "      <td>0.040248</td>\n",
       "      <td>-0.055156</td>\n",
       "      <td>0.291133</td>\n",
       "      <td>-1.377331</td>\n",
       "      <td>1.785371</td>\n",
       "      <td>2.549498</td>\n",
       "      <td>0.081358</td>\n",
       "      <td>-0.620090</td>\n",
       "    </tr>\n",
       "    <tr>\n",
       "      <th>98</th>\n",
       "      <td>-0.675596</td>\n",
       "      <td>-0.864129</td>\n",
       "      <td>1.360492</td>\n",
       "      <td>-1.594780</td>\n",
       "      <td>-0.368283</td>\n",
       "      <td>-0.473204</td>\n",
       "      <td>-0.709254</td>\n",
       "      <td>-0.468548</td>\n",
       "      <td>-0.730692</td>\n",
       "      <td>0.240232</td>\n",
       "    </tr>\n",
       "    <tr>\n",
       "      <th>99</th>\n",
       "      <td>-0.524603</td>\n",
       "      <td>-1.979056</td>\n",
       "      <td>-0.059951</td>\n",
       "      <td>-3.548976</td>\n",
       "      <td>-1.110378</td>\n",
       "      <td>0.633756</td>\n",
       "      <td>-0.626148</td>\n",
       "      <td>-1.600115</td>\n",
       "      <td>-0.698010</td>\n",
       "      <td>-0.863223</td>\n",
       "    </tr>\n",
       "  </tbody>\n",
       "</table>\n",
       "<p>100 rows × 10 columns</p>\n",
       "</div>"
      ],
      "text/plain": [
       "           0         1         2         3         4         5         6  \\\n",
       "0   0.616035 -0.731864  0.769739 -0.402502  0.596086 -0.474069 -0.164185   \n",
       "1   0.717572  1.309112 -0.559374 -0.322193 -0.271888  0.808571 -0.072750   \n",
       "2  -1.903268  0.774425 -0.372074 -2.563002 -0.621310  0.074658 -0.984517   \n",
       "3  -1.409085 -0.334569  0.261213 -0.177641 -0.318207  1.358677  2.493077   \n",
       "4   1.339398  1.180523  0.182003 -0.730126  0.629070  0.485557 -1.713968   \n",
       "..       ...       ...       ...       ...       ...       ...       ...   \n",
       "95  0.807072  0.375575  1.112717 -0.931689 -0.487875 -1.379148  0.052790   \n",
       "96  1.270478  0.824676 -0.481769 -0.643513  0.350582  0.363449 -0.648412   \n",
       "97 -0.332581 -0.256056  0.040248 -0.055156  0.291133 -1.377331  1.785371   \n",
       "98 -0.675596 -0.864129  1.360492 -1.594780 -0.368283 -0.473204 -0.709254   \n",
       "99 -0.524603 -1.979056 -0.059951 -3.548976 -1.110378  0.633756 -0.626148   \n",
       "\n",
       "           7         8         9  \n",
       "0   1.837294 -0.372981 -0.199431  \n",
       "1  -0.355815  0.037101 -0.346987  \n",
       "2   0.923470 -1.482405  0.421341  \n",
       "3   0.167201  0.430103 -0.785548  \n",
       "4  -0.276418  1.596072 -0.348260  \n",
       "..       ...       ...       ...  \n",
       "95 -0.174471 -0.202490 -0.235442  \n",
       "96 -1.279645 -2.444887  0.431379  \n",
       "97  2.549498  0.081358 -0.620090  \n",
       "98 -0.468548 -0.730692  0.240232  \n",
       "99 -1.600115 -0.698010 -0.863223  \n",
       "\n",
       "[100 rows x 10 columns]"
      ]
     },
     "execution_count": 103,
     "metadata": {},
     "output_type": "execute_result"
    }
   ],
   "source": [
    "for i in range(10):\n",
    "    a[i]= np.random.randn(100)\n",
    "    \n",
    "a"
   ]
  },
  {
   "cell_type": "code",
   "execution_count": 106,
   "id": "9e5b1e97-5580-4e34-bb58-07ae4de4a2d3",
   "metadata": {},
   "outputs": [
    {
     "data": {
      "image/png": "[encoded data removed]",
      "text/plain": [
       "<Figure size 576x396 with 1 Axes>"
      ]
     },
     "metadata": {},
     "output_type": "display_data"
    }
   ],
   "source": [
    "plt.hist(a, label=a.columns)\n",
    "\n",
    "plt.legend()\n",
    "plt.show()"
   ]
  },
  {
   "cell_type": "code",
   "execution_count": 107,
   "id": "64facf5b-9288-466a-b705-2a8b3b15b0fb",
   "metadata": {
    "collapsed": true,
    "jupyter": {
     "outputs_hidden": true
    },
    "tags": []
   },
   "outputs": [
    {
     "name": "stdout",
     "output_type": "stream",
     "text": [
      "0.6160347434742501\n",
      "0.7175724132781144\n",
      "-1.9032678572038206\n",
      "-1.4090848269965746\n",
      "1.3393975616883749\n",
      "-0.7502722428102827\n",
      "-0.7212506925420247\n",
      "-0.8210641298965512\n",
      "1.5734513213972372\n",
      "0.5741557985730033\n",
      "-1.1704573090905181\n",
      "0.5711966951222454\n",
      "0.8450094680605875\n",
      "-0.8027275654760603\n",
      "1.173306649401041\n",
      "0.07412587692313695\n",
      "-1.4110050510197594\n",
      "0.3067428027755273\n",
      "-0.8360987819551302\n",
      "1.3566860935856604\n",
      "0.27438647406930605\n",
      "0.10471637997488042\n",
      "0.44756739006129764\n",
      "0.3072553222804433\n",
      "-1.7045520434445949\n",
      "3.3353275124822677\n",
      "-0.7450001545095004\n",
      "-0.5516332516885433\n",
      "0.19002870499077457\n",
      "0.30221350803990676\n",
      "0.9027089397757645\n",
      "-0.9350331747514169\n",
      "0.10398091896067298\n",
      "2.292189221781178\n",
      "0.06221294224955562\n",
      "-0.8735962536602541\n",
      "-0.4257785625770618\n",
      "0.886799321693041\n",
      "-0.6995217098538172\n",
      "-0.5209566687673326\n",
      "0.8248137528461651\n",
      "0.25353137017389876\n",
      "-0.7658333762601817\n",
      "0.7981949083511328\n",
      "1.0541277845794221\n",
      "0.15815496828104722\n",
      "0.1811930636628019\n",
      "-2.3532277529479595\n",
      "-0.8281256091987373\n",
      "1.2510451341955113\n",
      "1.2222801416445772\n",
      "-2.273643988358839\n",
      "-0.4617743195438501\n",
      "-0.5352520550529539\n",
      "-0.48157939874209327\n",
      "0.08627642753611801\n",
      "-0.1442107825388766\n",
      "1.0284370664895415\n",
      "-1.3167533809661904\n",
      "0.16728973478656664\n",
      "0.13356739711532423\n",
      "-0.21296778251692622\n",
      "0.6618006627736476\n",
      "-0.0026064320185219727\n",
      "-0.12086789395745882\n",
      "0.37455051706156317\n",
      "-0.572091858781064\n",
      "-0.691122663907729\n",
      "-0.16351636054287055\n",
      "0.5853398377726801\n",
      "-0.4797252032856888\n",
      "0.46087324252592166\n",
      "0.09379109600770574\n",
      "-1.4400377218337856\n",
      "-0.08416249603550309\n",
      "-1.3533419208742299\n",
      "-2.1034197177430767\n",
      "0.9318222694875574\n",
      "0.3009751894743029\n",
      "-0.6420584575329618\n",
      "-1.3428784469613277\n",
      "-0.5414646169850855\n",
      "0.6107230508012084\n",
      "0.46971315349597587\n",
      "0.04855348678466708\n",
      "-1.9195858473474974\n",
      "0.144029285213767\n",
      "-1.379990439313279\n",
      "0.8353889060289365\n",
      "0.7358155444603489\n",
      "0.5350147655006594\n",
      "0.24643500738639704\n",
      "0.6030649830157763\n",
      "-0.32892463083518825\n",
      "0.020038843502623915\n",
      "0.8070722509325969\n",
      "1.2704777584543032\n",
      "-0.3325808330621524\n",
      "-0.6755964175075256\n",
      "-0.5246031398971556\n"
     ]
    }
   ],
   "source": [
    "for i in a[0]:\n",
    "    print(i)"
   ]
  },
  {
   "cell_type": "code",
   "execution_count": null,
   "id": "4424318a-6840-4580-8bca-c14625bdba50",
   "metadata": {},
   "outputs": [],
   "source": []
  },
  {
   "cell_type": "code",
   "execution_count": null,
   "id": "98b28543-8c64-4710-a9fe-39dd836c3caa",
   "metadata": {},
   "outputs": [],
   "source": []
  },
  {
   "cell_type": "code",
   "execution_count": null,
   "id": "f0fcbcbe-e070-4cc4-bc05-c3520a5380d3",
   "metadata": {},
   "outputs": [],
   "source": []
  },
  {
   "cell_type": "code",
   "execution_count": null,
   "id": "911910b6-bd9d-4abe-8f6f-44c7d807b11d",
   "metadata": {},
   "outputs": [],
   "source": []
  },
  {
   "cell_type": "code",
   "execution_count": null,
   "id": "c9725175-1f36-4531-87ff-3883b2f0ba4b",
   "metadata": {},
   "outputs": [],
   "source": []
  },
  {
   "cell_type": "code",
   "execution_count": null,
   "id": "3025db25-0146-4e6b-911b-d5da5a7c4ed9",
   "metadata": {},
   "outputs": [],
   "source": []
  },
  {
   "cell_type": "code",
   "execution_count": null,
   "id": "7501962a-accf-4550-8cd4-f24311399ad2",
   "metadata": {},
   "outputs": [],
   "source": []
  },
  {
   "cell_type": "code",
   "execution_count": 120,
   "id": "cc26d23a-1335-4848-8208-090c705d31e9",
   "metadata": {},
   "outputs": [],
   "source": [
    "x =np.random.randn(1,1,1,3,3)"
   ]
  },
  {
   "cell_type": "code",
   "execution_count": 119,
   "id": "632e3d61-9518-4700-975a-3660cda14470",
   "metadata": {},
   "outputs": [],
   "source": [
    "y= np.random.randn(3,3)"
   ]
  },
  {
   "cell_type": "code",
   "execution_count": 121,
   "id": "d1e63a93-a24b-4a04-8980-fc2ce90c60ab",
   "metadata": {},
   "outputs": [
    {
     "data": {
      "text/plain": [
       "array([[[[[-1.44614098, -0.01600722, -0.37826214],\n",
       "          [-1.48107189,  2.83076752, -2.94882066],\n",
       "          [-2.80580197, -1.06043834, -1.37979211]]]]])"
      ]
     },
     "execution_count": 121,
     "metadata": {},
     "output_type": "execute_result"
    }
   ],
   "source": [
    "np.matmul(x,y)"
   ]
  },
  {
   "cell_type": "code",
   "execution_count": null,
   "id": "38e6ad0d-9e6c-4007-b527-f8fa72c488c7",
   "metadata": {},
   "outputs": [],
   "source": [
    "new_x = x["
   ]
  }
 ],
 "metadata": {
  "kernelspec": {
   "display_name": "Python 3 (ipykernel)",
   "language": "python",
   "name": "python3"
  },
  "language_info": {
   "codemirror_mode": {
    "name": "ipython",
    "version": 3
   },
   "file_extension": ".py",
   "mimetype": "text/x-python",
   "name": "python",
   "nbconvert_exporter": "python",
   "pygments_lexer": "ipython3",
   "version": "3.10.5"
  }
 },
 "nbformat": 4,
 "nbformat_minor": 5
}
